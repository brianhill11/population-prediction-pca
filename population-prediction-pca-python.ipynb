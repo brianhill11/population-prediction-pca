{
 "cells": [
  {
   "cell_type": "code",
   "execution_count": 1,
   "metadata": {},
   "outputs": [
    {
     "name": "stderr",
     "output_type": "stream",
     "text": [
      "/mnt/anaconda2/envs/pca/lib/python3.6/importlib/_bootstrap.py:219: RuntimeWarning: numpy.dtype size changed, may indicate binary incompatibility. Expected 96, got 88\n",
      "  return f(*args, **kwds)\n",
      "/mnt/anaconda2/envs/pca/lib/python3.6/importlib/_bootstrap.py:219: RuntimeWarning: numpy.dtype size changed, may indicate binary incompatibility. Expected 96, got 88\n",
      "  return f(*args, **kwds)\n",
      "/mnt/anaconda2/envs/pca/lib/python3.6/importlib/_bootstrap.py:219: RuntimeWarning: numpy.dtype size changed, may indicate binary incompatibility. Expected 96, got 88\n",
      "  return f(*args, **kwds)\n",
      "/mnt/anaconda2/envs/pca/lib/python3.6/importlib/_bootstrap.py:219: RuntimeWarning: numpy.dtype size changed, may indicate binary incompatibility. Expected 96, got 88\n",
      "  return f(*args, **kwds)\n",
      "/mnt/anaconda2/envs/pca/lib/python3.6/importlib/_bootstrap.py:219: RuntimeWarning: numpy.dtype size changed, may indicate binary incompatibility. Expected 96, got 88\n",
      "  return f(*args, **kwds)\n",
      "/mnt/anaconda2/envs/pca/lib/python3.6/site-packages/sklearn/ensemble/weight_boosting.py:29: DeprecationWarning: numpy.core.umath_tests is an internal NumPy module and should not be imported. It will be removed in a future NumPy release.\n",
      "  from numpy.core.umath_tests import inner1d\n"
     ]
    }
   ],
   "source": [
    "import allel\n",
    "import numpy as np\n",
    "from sklearn.decomposition import PCA\n",
    "from sklearn.model_selection import train_test_split\n",
    "from sklearn.metrics import confusion_matrix\n",
    "from sklearn.ensemble import RandomForestClassifier\n",
    "from sklearn.preprocessing import LabelEncoder\n",
    "import matplotlib.pyplot as plt\n",
    "import os\n",
    "import pandas as pd\n",
    "\n",
    "import warnings\n",
    "warnings.filterwarnings('ignore')"
   ]
  },
  {
   "cell_type": "code",
   "execution_count": 2,
   "metadata": {},
   "outputs": [],
   "source": [
    "base_dir = \"/mnt/uc8/intersect_dir_merged\"\n",
    "vcf_1 = os.path.join(base_dir, \"0003.vcf\")\n",
    "vcf_2 = os.path.join(base_dir, \"0002.vcf\")\n",
    "labels_1kg_f = \"/home/hadoop/oda-usecase/usecase-8/integrated_call_samples_v3.20130502.ALL.panel\""
   ]
  },
  {
   "cell_type": "code",
   "execution_count": 3,
   "metadata": {},
   "outputs": [
    {
     "data": {
      "text/html": [
       "<div>\n",
       "<style scoped>\n",
       "    .dataframe tbody tr th:only-of-type {\n",
       "        vertical-align: middle;\n",
       "    }\n",
       "\n",
       "    .dataframe tbody tr th {\n",
       "        vertical-align: top;\n",
       "    }\n",
       "\n",
       "    .dataframe thead th {\n",
       "        text-align: right;\n",
       "    }\n",
       "</style>\n",
       "<table border=\"1\" class=\"dataframe\">\n",
       "  <thead>\n",
       "    <tr style=\"text-align: right;\">\n",
       "      <th></th>\n",
       "      <th>pop</th>\n",
       "      <th>super_pop</th>\n",
       "      <th>gender</th>\n",
       "    </tr>\n",
       "    <tr>\n",
       "      <th>sample</th>\n",
       "      <th></th>\n",
       "      <th></th>\n",
       "      <th></th>\n",
       "    </tr>\n",
       "  </thead>\n",
       "  <tbody>\n",
       "    <tr>\n",
       "      <th>HG00096</th>\n",
       "      <td>GBR</td>\n",
       "      <td>EUR</td>\n",
       "      <td>male</td>\n",
       "    </tr>\n",
       "    <tr>\n",
       "      <th>HG00097</th>\n",
       "      <td>GBR</td>\n",
       "      <td>EUR</td>\n",
       "      <td>female</td>\n",
       "    </tr>\n",
       "    <tr>\n",
       "      <th>HG00099</th>\n",
       "      <td>GBR</td>\n",
       "      <td>EUR</td>\n",
       "      <td>female</td>\n",
       "    </tr>\n",
       "    <tr>\n",
       "      <th>HG00100</th>\n",
       "      <td>GBR</td>\n",
       "      <td>EUR</td>\n",
       "      <td>female</td>\n",
       "    </tr>\n",
       "    <tr>\n",
       "      <th>HG00101</th>\n",
       "      <td>GBR</td>\n",
       "      <td>EUR</td>\n",
       "      <td>male</td>\n",
       "    </tr>\n",
       "  </tbody>\n",
       "</table>\n",
       "</div>"
      ],
      "text/plain": [
       "         pop super_pop  gender\n",
       "sample                        \n",
       "HG00096  GBR       EUR    male\n",
       "HG00097  GBR       EUR  female\n",
       "HG00099  GBR       EUR  female\n",
       "HG00100  GBR       EUR  female\n",
       "HG00101  GBR       EUR    male"
      ]
     },
     "execution_count": 3,
     "metadata": {},
     "output_type": "execute_result"
    }
   ],
   "source": [
    "labels_1kg = pd.read_csv(labels_1kg_f, sep=\"\\t\", header=0)\n",
    "labels_1kg.set_index(\"sample\", drop=True, inplace=True)\n",
    "labels_1kg.head()"
   ]
  },
  {
   "cell_type": "code",
   "execution_count": 4,
   "metadata": {},
   "outputs": [],
   "source": [
    "def ld_prune(g1, g2, size, step, threshold=0.2, n_iter=1):\n",
    "    for i in range(n_iter):\n",
    "        # run for the first dataset\n",
    "        loc_unlinked1 = allel.locate_unlinked(g1, size=size, step=step, threshold=threshold)\n",
    "        loc_unlinked2 = allel.locate_unlinked(g2, size=size, step=step, threshold=threshold)\n",
    "        loc_unlinked_both = np.logical_and(loc_unlinked1, loc_unlinked2)\n",
    "        # count number of variants to be removed\n",
    "        n1 = np.count_nonzero(loc_unlinked1)\n",
    "        n_remove1 = g1.shape[0] - n1\n",
    "        n2 = np.count_nonzero(loc_unlinked2)\n",
    "        n_remove2 = g2.shape[0] - n2\n",
    "        \n",
    "        n_both = np.count_nonzero(loc_unlinked_both)\n",
    "        n_remove_both = g1.shape[0] - n_both\n",
    "        print('iteration (a)', i+1, 'retaining', n1, 'removing', n_remove1, 'variants')\n",
    "        print('iteration (b)', i+1, 'retaining', n2, 'removing', n_remove2, 'variants')\n",
    "        print('retaining', n_both, 'removing ', n_remove_both ,'variants')\n",
    "        g1 = g1.compress(loc_unlinked_both, axis=0)\n",
    "        g2 = g2.compress(loc_unlinked_both, axis=0)\n",
    "    return g1, g2, loc_unlinked_both"
   ]
  },
  {
   "cell_type": "code",
   "execution_count": 5,
   "metadata": {},
   "outputs": [],
   "source": [
    "def filter_genotype_arrays(vcf_1, vcf_2):\n",
    "    g1 = allel.read_vcf(vcf_1)\n",
    "    ga1 = allel.GenotypeArray(g1['calldata/GT'])\n",
    "    print(ga1.shape)\n",
    "    \n",
    "    g2 = allel.read_vcf(vcf_2)\n",
    "    ga2 = allel.GenotypeArray(g2['calldata/GT'])\n",
    "    print(ga2.shape)\n",
    "    \n",
    "    ac1 = ga1.count_alleles()[:]\n",
    "    # count the number of multiallelic SNPs\n",
    "    print(\"number of multiallelic SNPs:\", np.count_nonzero(ac1.max_allele() > 1))\n",
    "    # count the number of biallelic singletons\n",
    "    print(\"number of biallelic singletons:\", np.count_nonzero((ac1.max_allele() == 1) & ac1.is_singleton(1)))\n",
    "    # apply filtering\n",
    "    flt1 = (ac1.max_allele() == 1) & (ac1[:, :2].min(axis=1) > 1)\n",
    "    \n",
    "    ac2 = ga2.count_alleles()[:]\n",
    "    # count the number of multiallelic SNPs\n",
    "    print(\"number of multiallelic SNPs:\", np.count_nonzero(ac2.max_allele() > 1))\n",
    "    # count the number of biallelic singletons\n",
    "    print(\"number of biallelic singletons:\", np.count_nonzero((ac2.max_allele() == 1) & ac2.is_singleton(1)))\n",
    "    # apply filtering\n",
    "    flt2 = (ac2.max_allele() == 1) & (ac2[:, :2].min(axis=1) > 1)\n",
    "    \n",
    "    # combine filtering of both datasets\n",
    "    flt = np.logical_and(flt1, flt2)\n",
    "    \n",
    "    gf1 = ga1.compress(flt, axis=0)\n",
    "    # fill=X means fill missing values with X\n",
    "    gan1 = gf1.to_n_alt(fill=0)\n",
    "    print(gan1.shape)\n",
    "    gf2 = ga2.compress(flt, axis=0)\n",
    "    gan2 = gf2.to_n_alt(fill=0)\n",
    "    print(gan2.shape)\n",
    "    \n",
    "    # remove SNPs in high LD\n",
    "    g1, g2, pos_list = ld_prune(gan1, gan2, size=500, step=200, threshold=0.2, n_iter=3)\n",
    "    return g1, g2, pos_list"
   ]
  },
  {
   "cell_type": "code",
   "execution_count": 6,
   "metadata": {},
   "outputs": [
    {
     "name": "stdout",
     "output_type": "stream",
     "text": [
      "g1 shape: (2446, 2504)\n",
      "g2 shape: (2446, 6427)\n"
     ]
    }
   ],
   "source": [
    "# filter genotype matrices\n",
    "# g1, g2, pos_list = filter_genotype_arrays(vcf_1, vcf_2)\n",
    "g1 = allel.read_vcf(vcf_1)\n",
    "g1 = allel.GenotypeArray(g1['calldata/GT']).to_n_alt(fill=0)\n",
    "print(\"g1 shape:\", g1.shape)\n",
    "g2 = allel.read_vcf(vcf_2)\n",
    "g2 = allel.GenotypeArray(g2['calldata/GT']).to_n_alt(fill=0)\n",
    "print(\"g2 shape:\", g2.shape)\n",
    "# print(\"pos_list shape:\", pos_list.shape)"
   ]
  },
  {
   "cell_type": "code",
   "execution_count": null,
   "metadata": {},
   "outputs": [],
   "source": []
  },
  {
   "cell_type": "code",
   "execution_count": 7,
   "metadata": {},
   "outputs": [
    {
     "data": {
      "text/html": [
       "<div>\n",
       "<style scoped>\n",
       "    .dataframe tbody tr th:only-of-type {\n",
       "        vertical-align: middle;\n",
       "    }\n",
       "\n",
       "    .dataframe tbody tr th {\n",
       "        vertical-align: top;\n",
       "    }\n",
       "\n",
       "    .dataframe thead th {\n",
       "        text-align: right;\n",
       "    }\n",
       "</style>\n",
       "<table border=\"1\" class=\"dataframe\">\n",
       "  <thead>\n",
       "    <tr style=\"text-align: right;\">\n",
       "      <th></th>\n",
       "      <th>0</th>\n",
       "      <th>1</th>\n",
       "      <th>2</th>\n",
       "      <th>3</th>\n",
       "      <th>4</th>\n",
       "      <th>5</th>\n",
       "      <th>6</th>\n",
       "      <th>7</th>\n",
       "      <th>8</th>\n",
       "      <th>9</th>\n",
       "      <th>...</th>\n",
       "      <th>2437</th>\n",
       "      <th>2438</th>\n",
       "      <th>2439</th>\n",
       "      <th>2440</th>\n",
       "      <th>2441</th>\n",
       "      <th>2442</th>\n",
       "      <th>2443</th>\n",
       "      <th>2444</th>\n",
       "      <th>2445</th>\n",
       "      <th>super_pop</th>\n",
       "    </tr>\n",
       "  </thead>\n",
       "  <tbody>\n",
       "    <tr>\n",
       "      <th>HG00096</th>\n",
       "      <td>0</td>\n",
       "      <td>0</td>\n",
       "      <td>0</td>\n",
       "      <td>0</td>\n",
       "      <td>0</td>\n",
       "      <td>0</td>\n",
       "      <td>0</td>\n",
       "      <td>1</td>\n",
       "      <td>0</td>\n",
       "      <td>0</td>\n",
       "      <td>...</td>\n",
       "      <td>0</td>\n",
       "      <td>0</td>\n",
       "      <td>0</td>\n",
       "      <td>0</td>\n",
       "      <td>0</td>\n",
       "      <td>0</td>\n",
       "      <td>0</td>\n",
       "      <td>0</td>\n",
       "      <td>0</td>\n",
       "      <td>EUR</td>\n",
       "    </tr>\n",
       "    <tr>\n",
       "      <th>HG00097</th>\n",
       "      <td>0</td>\n",
       "      <td>0</td>\n",
       "      <td>0</td>\n",
       "      <td>0</td>\n",
       "      <td>0</td>\n",
       "      <td>0</td>\n",
       "      <td>1</td>\n",
       "      <td>0</td>\n",
       "      <td>0</td>\n",
       "      <td>0</td>\n",
       "      <td>...</td>\n",
       "      <td>0</td>\n",
       "      <td>0</td>\n",
       "      <td>1</td>\n",
       "      <td>0</td>\n",
       "      <td>0</td>\n",
       "      <td>0</td>\n",
       "      <td>0</td>\n",
       "      <td>0</td>\n",
       "      <td>0</td>\n",
       "      <td>EUR</td>\n",
       "    </tr>\n",
       "    <tr>\n",
       "      <th>HG00099</th>\n",
       "      <td>0</td>\n",
       "      <td>0</td>\n",
       "      <td>0</td>\n",
       "      <td>0</td>\n",
       "      <td>0</td>\n",
       "      <td>1</td>\n",
       "      <td>2</td>\n",
       "      <td>0</td>\n",
       "      <td>0</td>\n",
       "      <td>0</td>\n",
       "      <td>...</td>\n",
       "      <td>1</td>\n",
       "      <td>0</td>\n",
       "      <td>0</td>\n",
       "      <td>0</td>\n",
       "      <td>0</td>\n",
       "      <td>0</td>\n",
       "      <td>0</td>\n",
       "      <td>0</td>\n",
       "      <td>0</td>\n",
       "      <td>EUR</td>\n",
       "    </tr>\n",
       "    <tr>\n",
       "      <th>HG00100</th>\n",
       "      <td>0</td>\n",
       "      <td>1</td>\n",
       "      <td>0</td>\n",
       "      <td>0</td>\n",
       "      <td>0</td>\n",
       "      <td>1</td>\n",
       "      <td>1</td>\n",
       "      <td>1</td>\n",
       "      <td>0</td>\n",
       "      <td>0</td>\n",
       "      <td>...</td>\n",
       "      <td>0</td>\n",
       "      <td>0</td>\n",
       "      <td>0</td>\n",
       "      <td>0</td>\n",
       "      <td>0</td>\n",
       "      <td>0</td>\n",
       "      <td>0</td>\n",
       "      <td>0</td>\n",
       "      <td>0</td>\n",
       "      <td>EUR</td>\n",
       "    </tr>\n",
       "    <tr>\n",
       "      <th>HG00101</th>\n",
       "      <td>0</td>\n",
       "      <td>0</td>\n",
       "      <td>0</td>\n",
       "      <td>0</td>\n",
       "      <td>0</td>\n",
       "      <td>1</td>\n",
       "      <td>0</td>\n",
       "      <td>0</td>\n",
       "      <td>0</td>\n",
       "      <td>1</td>\n",
       "      <td>...</td>\n",
       "      <td>0</td>\n",
       "      <td>0</td>\n",
       "      <td>1</td>\n",
       "      <td>0</td>\n",
       "      <td>0</td>\n",
       "      <td>0</td>\n",
       "      <td>0</td>\n",
       "      <td>0</td>\n",
       "      <td>0</td>\n",
       "      <td>EUR</td>\n",
       "    </tr>\n",
       "  </tbody>\n",
       "</table>\n",
       "<p>5 rows × 2447 columns</p>\n",
       "</div>"
      ],
      "text/plain": [
       "         0  1  2  3  4  5  6  7  8  9    ...      2437  2438  2439  2440  \\\n",
       "HG00096  0  0  0  0  0  0  0  1  0  0    ...         0     0     0     0   \n",
       "HG00097  0  0  0  0  0  0  1  0  0  0    ...         0     0     1     0   \n",
       "HG00099  0  0  0  0  0  1  2  0  0  0    ...         1     0     0     0   \n",
       "HG00100  0  1  0  0  0  1  1  1  0  0    ...         0     0     0     0   \n",
       "HG00101  0  0  0  0  0  1  0  0  0  1    ...         0     0     1     0   \n",
       "\n",
       "         2441  2442  2443  2444  2445  super_pop  \n",
       "HG00096     0     0     0     0     0        EUR  \n",
       "HG00097     0     0     0     0     0        EUR  \n",
       "HG00099     0     0     0     0     0        EUR  \n",
       "HG00100     0     0     0     0     0        EUR  \n",
       "HG00101     0     0     0     0     0        EUR  \n",
       "\n",
       "[5 rows x 2447 columns]"
      ]
     },
     "metadata": {},
     "output_type": "display_data"
    }
   ],
   "source": [
    "# turn genotype matrics into Pandas dataframes\n",
    "sample_names_1kg = allel.read_vcf(vcf_1)['samples']\n",
    "df_1kg = pd.DataFrame(data=g1, columns=sample_names_1kg)\n",
    "# transpose since we want samples x SNPs\n",
    "df_1kg = df_1kg.T\n",
    "df_1kg = df_1kg.join(labels_1kg[[\"super_pop\"]], how=\"inner\")\n",
    "display(df_1kg.head())\n",
    "\n",
    "sample_names_atlas = allel.read_vcf(vcf_2)['samples']\n",
    "df_atlas = pd.DataFrame(data=g2, columns=sample_names_atlas)\n",
    "# transpose since we want samples x SNPs\n",
    "df_atlas = df_atlas.T\n",
    "# df_atlas.head()"
   ]
  },
  {
   "cell_type": "code",
   "execution_count": 8,
   "metadata": {},
   "outputs": [],
   "source": [
    "y_1kg = df_1kg[\"super_pop\"]\n",
    "df_1kg.drop([\"super_pop\"], axis=1, inplace=True)"
   ]
  },
  {
   "cell_type": "code",
   "execution_count": 9,
   "metadata": {},
   "outputs": [
    {
     "name": "stdout",
     "output_type": "stream",
     "text": [
      "Number of 1kg train: (1752, 2446)\n",
      "Number of 1kg test: (752, 2446)\n",
      "Number of 1kg train labels: (1752,)\n",
      "Number of 1kg test labels: (752,)\n",
      "Number of atlas train: (4498, 2446)\n",
      "Number of atlas test: (1929, 2446)\n"
     ]
    }
   ],
   "source": [
    "# split into training and testing sets\n",
    "# note: we only have labels for 1000g, not AtLAs\n",
    "train_1kg, test_1kg, y_train_1kg, y_test_1kg = train_test_split(df_1kg, y_1kg, test_size=0.3, random_state=42)\n",
    "print(\"Number of 1kg train:\", train_1kg.shape)\n",
    "print(\"Number of 1kg test:\", test_1kg.shape)\n",
    "print(\"Number of 1kg train labels:\", y_train_1kg.shape)\n",
    "print(\"Number of 1kg test labels:\", y_test_1kg.shape)\n",
    "\n",
    "# note: we don't have labels for AtLAs\n",
    "train_atlas, test_atlas = train_test_split(df_atlas, test_size=0.3, random_state=42)\n",
    "print(\"Number of atlas train:\", train_atlas.shape)\n",
    "print(\"Number of atlas test:\", test_atlas.shape)"
   ]
  },
  {
   "cell_type": "code",
   "execution_count": 10,
   "metadata": {},
   "outputs": [],
   "source": [
    "# change labels from strings to integers\n",
    "le = LabelEncoder()\n",
    "le.fit(y_train_1kg)\n",
    "y_train_1kg = le.transform(y_train_1kg)\n",
    "y_test_1kg = le.transform(y_test_1kg)"
   ]
  },
  {
   "cell_type": "code",
   "execution_count": 11,
   "metadata": {},
   "outputs": [],
   "source": [
    "# mean-center the data \n",
    "# train_1kg_mean =  np.mean(train_1kg, axis=0)\n",
    "# train_1kg -= train_1kg_mean\n",
    "\n",
    "# test_1kg_mean =  np.mean(test_1kg, axis=0)\n",
    "# test_1kg -= test_1kg_mean\n",
    "\n",
    "# train_atlas_mean =  np.mean(train_atlas, axis=0)\n",
    "# train_atlas -= train_atlas_mean\n",
    "\n",
    "# test_atlas_mean =  np.mean(test_atlas, axis=0)\n",
    "# test_atlas -= test_atlas_mean"
   ]
  },
  {
   "cell_type": "code",
   "execution_count": 12,
   "metadata": {},
   "outputs": [
    {
     "name": "stdout",
     "output_type": "stream",
     "text": [
      "None\n"
     ]
    }
   ],
   "source": [
    "# run PCA (train on AtLAs training data)\n",
    "pca = PCA(n_components=5)\n",
    "pca.fit(train_atlas)\n",
    "pca.mean_ = None\n",
    "print(pca.mean_)"
   ]
  },
  {
   "cell_type": "code",
   "execution_count": 13,
   "metadata": {},
   "outputs": [
    {
     "name": "stdout",
     "output_type": "stream",
     "text": [
      "[0.03370693 0.01224854 0.00972194 0.00462984 0.00442524]\n"
     ]
    }
   ],
   "source": [
    "# look at variance explained\n",
    "print(pca.explained_variance_ratio_)"
   ]
  },
  {
   "cell_type": "code",
   "execution_count": 14,
   "metadata": {},
   "outputs": [
    {
     "name": "stdout",
     "output_type": "stream",
     "text": [
      "train_1kg_loadings shape: (1752, 5)\n",
      "test_1kg_loadings shape: (752, 5)\n",
      "train_atlas_loadings shape: (4498, 5)\n",
      "test_atlas_loadings shape: (1929, 5)\n"
     ]
    }
   ],
   "source": [
    "# get sample loadings using SNP loadings\n",
    "# 1000g sample loadings\n",
    "train_1kg_loadings = pca.transform(train_1kg)\n",
    "print(\"train_1kg_loadings shape:\", train_1kg_loadings.shape)\n",
    "\n",
    "test_1kg_loadings = pca.transform(test_1kg)\n",
    "print(\"test_1kg_loadings shape:\", test_1kg_loadings.shape)\n",
    "\n",
    "# AtLAs sample loadings\n",
    "train_atlas_loadings = pca.transform(train_atlas)\n",
    "print(\"train_atlas_loadings shape:\", train_atlas_loadings.shape)\n",
    "\n",
    "test_atlas_loadings = pca.transform(test_atlas)\n",
    "print(\"test_atlas_loadings shape:\", test_atlas_loadings.shape)"
   ]
  },
  {
   "cell_type": "code",
   "execution_count": 15,
   "metadata": {},
   "outputs": [],
   "source": [
    "# write sample loadings to files\n",
    "train_1kg_loadings_df = pd.DataFrame(data=train_1kg_loadings, index=train_1kg.index.values)\n",
    "train_1kg_loadings_df.to_csv(\"1000g.train.sample.loading.txt\", sep=\"\\t\", index=True, header=False)\n",
    "\n",
    "test_1kg_loadings_df = pd.DataFrame(data=test_1kg_loadings, index=test_1kg.index.values)\n",
    "test_1kg_loadings_df.to_csv(\"1000g.test.sample.loading.txt\", sep=\"\\t\", index=True, header=False)\n",
    "\n",
    "train_atlas_loadings_df = pd.DataFrame(data=train_atlas_loadings, index=train_atlas.index.values)\n",
    "train_atlas_loadings_df.to_csv(\"atlas.train.sample.loading.txt\", sep=\"\\t\", index=True, header=False)\n",
    "\n",
    "test_atlas_loadings_df = pd.DataFrame(data=test_atlas_loadings, index=test_atlas.index.values)\n",
    "test_atlas_loadings_df.to_csv(\"atlas.test.sample.loading.txt\", sep=\"\\t\", index=True, header=False)"
   ]
  },
  {
   "cell_type": "code",
   "execution_count": 16,
   "metadata": {},
   "outputs": [
    {
     "data": {
      "image/png": "[encoded data removed]",
      "text/plain": [
       "<Figure size 432x288 with 1 Axes>"
      ]
     },
     "metadata": {},
     "output_type": "display_data"
    }
   ],
   "source": [
    "# plot first two PCs for AtLAs training\n",
    "plt.scatter(train_atlas_loadings[:,0], train_atlas_loadings[:,1])\n",
    "plt.title(\"AtLAs training PC1 v PC2\")\n",
    "plt.xlabel(\"PC1\")\n",
    "plt.ylabel(\"PC2\")\n",
    "plt.show()"
   ]
  },
  {
   "cell_type": "code",
   "execution_count": 17,
   "metadata": {},
   "outputs": [
    {
     "data": {
      "image/png": "[encoded data removed]",
      "text/plain": [
       "<Figure size 432x288 with 1 Axes>"
      ]
     },
     "metadata": {},
     "output_type": "display_data"
    }
   ],
   "source": [
    "# plot first two PCs \n",
    "plt.scatter(train_1kg_loadings[:,0], train_1kg_loadings[:,1], c=y_train_1kg)\n",
    "plt.title(\"1000g training PC1 v PC2\")\n",
    "plt.xlabel(\"PC1\")\n",
    "plt.ylabel(\"PC2\")\n",
    "plt.show()"
   ]
  },
  {
   "cell_type": "code",
   "execution_count": 19,
   "metadata": {},
   "outputs": [
    {
     "name": "stdout",
     "output_type": "stream",
     "text": [
      "(2446, 5)\n",
      "[[-0.0047203   0.00434606  0.00212998  0.00883547  0.0296192 ]\n",
      " [-0.00561461  0.00421991 -0.00135882  0.01276557  0.01355811]\n",
      " [ 0.0284662   0.08331518  0.03149895 -0.02575823  0.03875051]\n",
      " [ 0.00110166 -0.01413343  0.00628447  0.00667809 -0.00319124]\n",
      " [-0.02503471  0.01901444 -0.01234688  0.00363538  0.01024536]\n",
      " [ 0.0272081  -0.0010163  -0.01220245  0.02036456 -0.01156544]\n",
      " [ 0.00900892  0.00143661 -0.04579687 -0.01888638  0.04654488]\n",
      " [ 0.00108052  0.00187602 -0.0011813   0.00537085 -0.00234293]\n",
      " [-0.02469622  0.02399201  0.02463246 -0.0185959  -0.00081862]]\n"
     ]
    }
   ],
   "source": [
    "# get SNP loadings\n",
    "snp_loadings = pca.components_.T\n",
    "print(snp_loadings.shape)\n",
    "print(snp_loadings[1:10,:])"
   ]
  },
  {
   "cell_type": "code",
   "execution_count": 20,
   "metadata": {},
   "outputs": [],
   "source": [
    "# get SNP positions\n",
    "snp_ids = allel.read_vcf(vcf_1)['variants/ID']\n",
    "snp_chrs = allel.read_vcf(vcf_1)['variants/CHROM']\n",
    "snp_positions = allel.read_vcf(vcf_1)['variants/POS']"
   ]
  },
  {
   "cell_type": "code",
   "execution_count": 21,
   "metadata": {},
   "outputs": [
    {
     "data": {
      "text/html": [
       "<div>\n",
       "<style scoped>\n",
       "    .dataframe tbody tr th:only-of-type {\n",
       "        vertical-align: middle;\n",
       "    }\n",
       "\n",
       "    .dataframe tbody tr th {\n",
       "        vertical-align: top;\n",
       "    }\n",
       "\n",
       "    .dataframe thead th {\n",
       "        text-align: right;\n",
       "    }\n",
       "</style>\n",
       "<table border=\"1\" class=\"dataframe\">\n",
       "  <thead>\n",
       "    <tr style=\"text-align: right;\">\n",
       "      <th></th>\n",
       "      <th>snp.rs.id</th>\n",
       "      <th>snp.chrom</th>\n",
       "      <th>snp.pos</th>\n",
       "      <th>X1</th>\n",
       "      <th>X2</th>\n",
       "      <th>X3</th>\n",
       "      <th>X4</th>\n",
       "      <th>X5</th>\n",
       "    </tr>\n",
       "  </thead>\n",
       "  <tbody>\n",
       "    <tr>\n",
       "      <th>0</th>\n",
       "      <td>rs145087137</td>\n",
       "      <td>1</td>\n",
       "      <td>1238583</td>\n",
       "      <td>0.002796</td>\n",
       "      <td>0.009867</td>\n",
       "      <td>0.005584</td>\n",
       "      <td>0.006102</td>\n",
       "      <td>-0.003102</td>\n",
       "    </tr>\n",
       "    <tr>\n",
       "      <th>1</th>\n",
       "      <td>rs11548045</td>\n",
       "      <td>1</td>\n",
       "      <td>1342394</td>\n",
       "      <td>-0.004720</td>\n",
       "      <td>0.004346</td>\n",
       "      <td>0.002130</td>\n",
       "      <td>0.008835</td>\n",
       "      <td>0.029619</td>\n",
       "    </tr>\n",
       "    <tr>\n",
       "      <th>2</th>\n",
       "      <td>rs75816936</td>\n",
       "      <td>1</td>\n",
       "      <td>1686081</td>\n",
       "      <td>-0.005615</td>\n",
       "      <td>0.004220</td>\n",
       "      <td>-0.001359</td>\n",
       "      <td>0.012766</td>\n",
       "      <td>0.013558</td>\n",
       "    </tr>\n",
       "    <tr>\n",
       "      <th>3</th>\n",
       "      <td>rs2645087</td>\n",
       "      <td>1</td>\n",
       "      <td>2288852</td>\n",
       "      <td>0.028466</td>\n",
       "      <td>0.083315</td>\n",
       "      <td>0.031499</td>\n",
       "      <td>-0.025758</td>\n",
       "      <td>0.038751</td>\n",
       "    </tr>\n",
       "    <tr>\n",
       "      <th>4</th>\n",
       "      <td>rs947345</td>\n",
       "      <td>1</td>\n",
       "      <td>3424388</td>\n",
       "      <td>0.001102</td>\n",
       "      <td>-0.014133</td>\n",
       "      <td>0.006284</td>\n",
       "      <td>0.006678</td>\n",
       "      <td>-0.003191</td>\n",
       "    </tr>\n",
       "  </tbody>\n",
       "</table>\n",
       "</div>"
      ],
      "text/plain": [
       "     snp.rs.id snp.chrom  snp.pos        X1        X2        X3        X4  \\\n",
       "0  rs145087137         1  1238583  0.002796  0.009867  0.005584  0.006102   \n",
       "1   rs11548045         1  1342394 -0.004720  0.004346  0.002130  0.008835   \n",
       "2   rs75816936         1  1686081 -0.005615  0.004220 -0.001359  0.012766   \n",
       "3    rs2645087         1  2288852  0.028466  0.083315  0.031499 -0.025758   \n",
       "4     rs947345         1  3424388  0.001102 -0.014133  0.006284  0.006678   \n",
       "\n",
       "         X5  \n",
       "0 -0.003102  \n",
       "1  0.029619  \n",
       "2  0.013558  \n",
       "3  0.038751  \n",
       "4 -0.003191  "
      ]
     },
     "execution_count": 21,
     "metadata": {},
     "output_type": "execute_result"
    }
   ],
   "source": [
    "# write SNP loadings to file\n",
    "snp_loading_df = pd.DataFrame(data=snp_loadings, columns=[\"X1\", \"X2\", \"X3\", \"X4\", \"X5\"])\n",
    "snp_loading_df[\"snp.rs.id\"] = snp_ids\n",
    "snp_loading_df[\"snp.chrom\"] = snp_chrs\n",
    "snp_loading_df[\"snp.pos\"] = snp_positions\n",
    "# reoder columns\n",
    "snp_loading_df = snp_loading_df[[\"snp.rs.id\", \"snp.chrom\", \"snp.pos\", \"X1\", \"X2\", \"X3\", \"X4\", \"X5\"]]\n",
    "snp_loading_df.to_csv(\"output.loading.mat.txt\", sep=\"\\t\", header=True, index=False)\n",
    "snp_loading_df.head()"
   ]
  },
  {
   "cell_type": "code",
   "execution_count": 22,
   "metadata": {},
   "outputs": [
    {
     "name": "stdout",
     "output_type": "stream",
     "text": [
      "[[461   0   0   0   0]\n",
      " [  0 243   0   0   0]\n",
      " [  0   0 342   0   0]\n",
      " [  0   0   0 362   0]\n",
      " [  0   0   0   0 344]]\n",
      "accuracy: 1.0\n"
     ]
    }
   ],
   "source": [
    "# train random forest model \n",
    "rf = RandomForestClassifier(n_estimators=500, oob_score=True, random_state=42, n_jobs=-1)\n",
    "rf.fit(train_1kg_loadings, y_train_1kg)\n",
    "\n",
    "predictions_1kg_train = rf.predict(train_1kg_loadings)\n",
    "cm = confusion_matrix(y_train_1kg, predictions_1kg_train)\n",
    "print(cm)\n",
    "print(\"accuracy:\", rf.score(train_1kg_loadings, y_train_1kg))"
   ]
  },
  {
   "cell_type": "code",
   "execution_count": 23,
   "metadata": {},
   "outputs": [
    {
     "name": "stdout",
     "output_type": "stream",
     "text": [
      "[[197   3   0   0   0]\n",
      " [  1  95   0   6   2]\n",
      " [  0   0 162   0   0]\n",
      " [  0   2   0 139   0]\n",
      " [  0   1   0   1 143]]\n",
      "accuracy: 0.9787234042553191\n"
     ]
    }
   ],
   "source": [
    "# check prediction results on 1000g test set\n",
    "predictions_1kg_test = rf.predict(test_1kg_loadings)\n",
    "cm = confusion_matrix(y_test_1kg, predictions_1kg_test)\n",
    "print(cm)\n",
    "print(\"accuracy:\", rf.score(test_1kg_loadings, y_test_1kg))"
   ]
  },
  {
   "cell_type": "code",
   "execution_count": 24,
   "metadata": {},
   "outputs": [
    {
     "name": "stdout",
     "output_type": "stream",
     "text": [
      "class: AFR count: 288 \tfreq: 0.06402845709204091\n",
      "class: AMR count: 906 \tfreq: 0.20142285460204534\n",
      "class: EAS count: 411 \tfreq: 0.09137394397510004\n",
      "class: EUR count: 2743 \tfreq: 0.6098265895953757\n",
      "class: SAS count: 150 \tfreq: 0.03334815473543797\n"
     ]
    }
   ],
   "source": [
    "# check prediction results on AtLAs train set\n",
    "predictions_atlas_train = rf.predict(train_atlas_loadings)\n",
    "pred_train_counts = np.bincount(predictions_atlas_train)\n",
    "for cls, cnt in zip(np.nonzero(pred_train_counts)[0], pred_train_counts[np.nonzero(pred_train_counts)[0]]):\n",
    "    print(\"class:\", le.inverse_transform(cls), \"count:\", cnt, \"\\tfreq:\", cnt/len(predictions_atlas_train))"
   ]
  },
  {
   "cell_type": "code",
   "execution_count": 25,
   "metadata": {},
   "outputs": [
    {
     "name": "stdout",
     "output_type": "stream",
     "text": [
      "class: AFR count: 106 \tfreq: 0.054950751684810784\n",
      "class: AMR count: 364 \tfreq: 0.1886988076723691\n",
      "class: EAS count: 187 \tfreq: 0.09694142042509073\n",
      "class: EUR count: 1204 \tfreq: 0.6241575946086055\n",
      "class: SAS count: 68 \tfreq: 0.0352514256091239\n"
     ]
    }
   ],
   "source": [
    "# check prediction results on AtLAs test set\n",
    "predictions_atlas_test = rf.predict(test_atlas_loadings)\n",
    "pred_test_counts = np.bincount(predictions_atlas_test)\n",
    "for cls, cnt in zip(np.nonzero(pred_test_counts)[0], pred_test_counts[np.nonzero(pred_test_counts)[0]]):\n",
    "    print(\"class:\", le.inverse_transform(cls), \"count:\", cnt, \"\\tfreq:\", cnt/len(predictions_atlas_test))"
   ]
  },
  {
   "cell_type": "code",
   "execution_count": 26,
   "metadata": {},
   "outputs": [
    {
     "data": {
      "image/png": "[encoded data removed]",
      "text/plain": [
       "<Figure size 432x288 with 1 Axes>"
      ]
     },
     "metadata": {},
     "output_type": "display_data"
    }
   ],
   "source": [
    "# plot first two PCs \n",
    "plt.scatter(test_atlas_loadings[:,0], test_atlas_loadings[:,1], c=predictions_atlas_test)\n",
    "plt.title(\"AtLAs test PC1 v PC2\")\n",
    "plt.xlabel(\"PC1\")\n",
    "plt.ylabel(\"PC2\")\n",
    "plt.show()"
   ]
  },
  {
   "cell_type": "code",
   "execution_count": null,
   "metadata": {},
   "outputs": [],
   "source": []
  }
 ],
 "metadata": {
  "kernelspec": {
   "display_name": "Python 3",
   "language": "python",
   "name": "python3"
  },
  "language_info": {
   "codemirror_mode": {
    "name": "ipython",
    "version": 3
   },
   "file_extension": ".py",
   "mimetype": "text/x-python",
   "name": "python",
   "nbconvert_exporter": "python",
   "pygments_lexer": "ipython3",
   "version": "3.6.6"
  }
 },
 "nbformat": 4,
 "nbformat_minor": 2
}
