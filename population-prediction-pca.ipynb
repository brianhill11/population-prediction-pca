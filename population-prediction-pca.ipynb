{
 "cells": [
  {
   "cell_type": "markdown",
   "metadata": {},
   "source": [
    "# Population Prediction using PCA and Random Forests"
   ]
  },
  {
   "cell_type": "code",
   "execution_count": 1,
   "metadata": {},
   "outputs": [
    {
     "name": "stderr",
     "output_type": "stream",
     "text": [
      "SNPRelate -- supported by Streaming SIMD Extensions 2 (SSE2)\n",
      "randomForest 4.6-12\n",
      "Type rfNews() to see new features/changes/bug fixes.\n",
      "Loading required package: lattice\n",
      "Loading required package: ggplot2\n",
      "\n",
      "Attaching package: ‘ggplot2’\n",
      "\n",
      "The following object is masked from ‘package:randomForest’:\n",
      "\n",
      "    margin\n",
      "\n"
     ]
    }
   ],
   "source": [
    "library(\"gdsfmt\")\n",
    "library(\"SNPRelate\")\n",
    "library(\"randomForest\")\n",
    "library(\"plyr\")\n",
    "library(\"caret\")"
   ]
  },
  {
   "cell_type": "markdown",
   "metadata": {},
   "source": [
    "## Input/Output Files"
   ]
  },
  {
   "cell_type": "code",
   "execution_count": 2,
   "metadata": {},
   "outputs": [],
   "source": [
    "# input files\n",
    "vcf.1000g = \"/mnt/uc8/intersect_dir/0003.vcf\"\n",
    "vcf.atlas = \"/mnt/uc8/intersect_dir/0002.vcf\"\n",
    "label.file = \"/home/hadoop/oda-usecase/usecase-8/integrated_call_samples_v3.20130502.ALL.panel\"\n",
    "# output files\n",
    "gds.1000g = \"out.1000g.recode.gds\"\n",
    "gds.atlas = \"out.atlas.recode.gds\"\n",
    "output.loading.file = \"output.loading.mat.txt\""
   ]
  },
  {
   "cell_type": "markdown",
   "metadata": {},
   "source": [
    "## Parameters"
   ]
  },
  {
   "cell_type": "code",
   "execution_count": 3,
   "metadata": {},
   "outputs": [],
   "source": [
    "# parameters\n",
    "percent.train = 0.7\n",
    "num.threads = 4\n",
    "num.eigenvectors = 5\n",
    "# params for LD pruning\n",
    "ld.threshold = 0.2\n",
    "slide.max.bp = 100"
   ]
  },
  {
   "cell_type": "code",
   "execution_count": 4,
   "metadata": {},
   "outputs": [
    {
     "data": {
      "text/html": [
       "<table>\n",
       "<thead><tr><th scope=col>sample</th><th scope=col>pop</th><th scope=col>super_pop</th><th scope=col>gender</th></tr></thead>\n",
       "<tbody>\n",
       "\t<tr><td>HG00096</td><td>GBR    </td><td>EUR    </td><td>male   </td></tr>\n",
       "\t<tr><td>HG00097</td><td>GBR    </td><td>EUR    </td><td>female </td></tr>\n",
       "\t<tr><td>HG00099</td><td>GBR    </td><td>EUR    </td><td>female </td></tr>\n",
       "\t<tr><td>HG00100</td><td>GBR    </td><td>EUR    </td><td>female </td></tr>\n",
       "\t<tr><td>HG00101</td><td>GBR    </td><td>EUR    </td><td>male   </td></tr>\n",
       "\t<tr><td>HG00102</td><td>GBR    </td><td>EUR    </td><td>female </td></tr>\n",
       "</tbody>\n",
       "</table>\n"
      ],
      "text/latex": [
       "\\begin{tabular}{r|llll}\n",
       " sample & pop & super\\_pop & gender\\\\\n",
       "\\hline\n",
       "\t HG00096 & GBR     & EUR     & male   \\\\\n",
       "\t HG00097 & GBR     & EUR     & female \\\\\n",
       "\t HG00099 & GBR     & EUR     & female \\\\\n",
       "\t HG00100 & GBR     & EUR     & female \\\\\n",
       "\t HG00101 & GBR     & EUR     & male   \\\\\n",
       "\t HG00102 & GBR     & EUR     & female \\\\\n",
       "\\end{tabular}\n"
      ],
      "text/markdown": [
       "\n",
       "sample | pop | super_pop | gender | \n",
       "|---|---|---|---|---|---|\n",
       "| HG00096 | GBR     | EUR     | male    | \n",
       "| HG00097 | GBR     | EUR     | female  | \n",
       "| HG00099 | GBR     | EUR     | female  | \n",
       "| HG00100 | GBR     | EUR     | female  | \n",
       "| HG00101 | GBR     | EUR     | male    | \n",
       "| HG00102 | GBR     | EUR     | female  | \n",
       "\n",
       "\n"
      ],
      "text/plain": [
       "  sample  pop super_pop gender\n",
       "1 HG00096 GBR EUR       male  \n",
       "2 HG00097 GBR EUR       female\n",
       "3 HG00099 GBR EUR       female\n",
       "4 HG00100 GBR EUR       female\n",
       "5 HG00101 GBR EUR       male  \n",
       "6 HG00102 GBR EUR       female"
      ]
     },
     "metadata": {},
     "output_type": "display_data"
    }
   ],
   "source": [
    "sample.info = read.table(label.file, header=TRUE, sep=\"\\t\")\n",
    "head(sample.info)\n",
    "pop_code = sample.info$super_pop"
   ]
  },
  {
   "cell_type": "code",
   "execution_count": 5,
   "metadata": {},
   "outputs": [
    {
     "name": "stdout",
     "output_type": "stream",
     "text": [
      "VCF Format ==> SNP GDS Format\n",
      "Method: exacting biallelic SNPs\n",
      "Number of samples: 2504\n",
      "Parsing \"/mnt/uc8/intersect_dir/0003.vcf\" ...\n",
      "\timport 2434 variants.\n",
      "+ genotype   { Bit2 2504x2434, 1.5M } *\n",
      "Optimize the access efficiency ...\n",
      "Clean up the fragments of GDS file:\n",
      "    open the file 'out.1000g.recode.gds' (1.5M)\n",
      "    # of fragments: 40\n",
      "    save to 'out.1000g.recode.gds.tmp'\n",
      "    rename 'out.1000g.recode.gds.tmp' (1.5M, reduced: 240B)\n",
      "    # of fragments: 20\n",
      "VCF Format ==> SNP GDS Format\n",
      "Method: exacting biallelic SNPs\n",
      "Number of samples: 1806\n",
      "Parsing \"/mnt/uc8/intersect_dir/0002.vcf\" ...\n",
      "\timport 2434 variants.\n",
      "+ genotype   { Bit2 1806x2434, 1.0M } *\n",
      "Optimize the access efficiency ...\n",
      "Clean up the fragments of GDS file:\n",
      "    open the file 'out.atlas.recode.gds' (1.1M)\n",
      "    # of fragments: 40\n",
      "    save to 'out.atlas.recode.gds.tmp'\n",
      "    rename 'out.atlas.recode.gds.tmp' (1.1M, reduced: 240B)\n",
      "    # of fragments: 20\n"
     ]
    }
   ],
   "source": [
    "# if GDS file does not exist, we need to create\n",
    "# if (!file.exists(gds.1)) {\n",
    "#     print(\"GDS file does not exist! Creating...\")\n",
    "#     snpgdsVCF2GDS(vcf.1, gds.1, method=\"biallelic.only\")\n",
    "# }\n",
    "snpgdsVCF2GDS(vcf.1000g, gds.1000g, method=\"biallelic.only\")\n",
    "snpgdsVCF2GDS(vcf.atlas, gds.atlas, method=\"biallelic.only\")"
   ]
  },
  {
   "cell_type": "code",
   "execution_count": 6,
   "metadata": {},
   "outputs": [],
   "source": [
    "genofile.1000g = snpgdsOpen(gds.1000g)\n",
    "genofile.atlas = snpgdsOpen(gds.atlas)\n",
    "set.seed(1000)"
   ]
  },
  {
   "cell_type": "markdown",
   "metadata": {},
   "source": [
    "## run LD pruning "
   ]
  },
  {
   "cell_type": "code",
   "execution_count": 7,
   "metadata": {},
   "outputs": [
    {
     "name": "stdout",
     "output_type": "stream",
     "text": [
      "SNP pruning based on LD:\n",
      "Excluding 0 SNP on non-autosomes\n",
      "Excluding 0 SNP (monomorphic: TRUE, MAF: NaN, missing rate: NaN)\n",
      "Working space: 1,806 samples, 2,434 SNPs\n",
      "    using 4 (CPU) cores\n"
     ]
    },
    {
     "name": "stderr",
     "output_type": "stream",
     "text": [
      "Warning message in snpgdsLDpruning(genofile.atlas, ld.threshold = ld.threshold, :\n",
      "“The current version of 'snpgdsLDpruning()' does not support multi-threading.”"
     ]
    },
    {
     "name": "stdout",
     "output_type": "stream",
     "text": [
      "    sliding window: 100 basepairs, Inf SNPs\n",
      "    |LD| threshold: 0.2\n",
      "    method: composite\n",
      "Chromosome 1: 100.00%, 248/248\n",
      "Chromosome 2: 100.00%, 163/163\n",
      "Chromosome 3: 100.00%, 139/139\n",
      "Chromosome 4: 100.00%, 112/112\n",
      "Chromosome 5: 100.00%, 115/115\n",
      "Chromosome 6: 100.00%, 159/159\n",
      "Chromosome 7: 100.00%, 139/139\n",
      "Chromosome 8: 100.00%, 99/99\n",
      "Chromosome 9: 100.00%, 109/109\n",
      "Chromosome 10: 100.00%, 104/104\n",
      "Chromosome 11: 100.00%, 148/148\n",
      "Chromosome 12: 100.00%, 136/136\n",
      "Chromosome 13: 100.00%, 46/46\n",
      "Chromosome 14: 100.00%, 79/79\n",
      "Chromosome 15: 100.00%, 70/70\n",
      "Chromosome 16: 100.00%, 100/100\n",
      "Chromosome 17: 100.00%, 115/115\n",
      "Chromosome 18: 100.00%, 64/64\n",
      "Chromosome 19: 100.00%, 136/136\n",
      "Chromosome 20: 100.00%, 67/67\n",
      "Chromosome 21: 100.00%, 22/22\n",
      "Chromosome 22: 100.00%, 64/64\n",
      "2,434 markers are selected in total.\n"
     ]
    }
   ],
   "source": [
    "# TODO: try LD pruning using 1000g instead\n",
    "snpset.maf = snpgdsLDpruning(genofile.atlas, ld.threshold=ld.threshold, slide.max.bp=slide.max.bp, num.thread=num.threads)\n",
    "snpset.id = unlist(snpset.maf)"
   ]
  },
  {
   "cell_type": "code",
   "execution_count": 8,
   "metadata": {},
   "outputs": [
    {
     "data": {
      "text/html": [
       "<dl class=dl-horizontal>\n",
       "\t<dt>chr11</dt>\n",
       "\t\t<dd>1</dd>\n",
       "\t<dt>chr12</dt>\n",
       "\t\t<dd>2</dd>\n",
       "\t<dt>chr13</dt>\n",
       "\t\t<dd>3</dd>\n",
       "\t<dt>chr14</dt>\n",
       "\t\t<dd>4</dd>\n",
       "\t<dt>chr15</dt>\n",
       "\t\t<dd>5</dd>\n",
       "\t<dt>chr16</dt>\n",
       "\t\t<dd>6</dd>\n",
       "</dl>\n"
      ],
      "text/latex": [
       "\\begin{description*}\n",
       "\\item[chr11] 1\n",
       "\\item[chr12] 2\n",
       "\\item[chr13] 3\n",
       "\\item[chr14] 4\n",
       "\\item[chr15] 5\n",
       "\\item[chr16] 6\n",
       "\\end{description*}\n"
      ],
      "text/markdown": [
       "chr11\n",
       ":   1chr12\n",
       ":   2chr13\n",
       ":   3chr14\n",
       ":   4chr15\n",
       ":   5chr16\n",
       ":   6\n",
       "\n"
      ],
      "text/plain": [
       "chr11 chr12 chr13 chr14 chr15 chr16 \n",
       "    1     2     3     4     5     6 "
      ]
     },
     "metadata": {},
     "output_type": "display_data"
    },
    {
     "data": {
      "text/html": [
       "22"
      ],
      "text/latex": [
       "22"
      ],
      "text/markdown": [
       "22"
      ],
      "text/plain": [
       "[1] 22"
      ]
     },
     "metadata": {},
     "output_type": "display_data"
    }
   ],
   "source": [
    "head(snpset.id)\n",
    "length(snpset.maf)"
   ]
  },
  {
   "cell_type": "markdown",
   "metadata": {},
   "source": [
    "## Split data into training and testing sets\n",
    "We split the dataset into a training set (70% of input data) and a testing set (30% of input data) using random sampling. "
   ]
  },
  {
   "cell_type": "code",
   "execution_count": 9,
   "metadata": {},
   "outputs": [
    {
     "name": "stdout",
     "output_type": "stream",
     "text": [
      "[1] \"number of 1000g training samples: 1753\"\n",
      "[1] \"number of atlas training samples: 1264\"\n"
     ]
    }
   ],
   "source": [
    "# get list of training examples by randomly sampling \n",
    "sample.id.1000g = read.gdsn(index.gdsn(genofile.1000g, \"sample.id\"))\n",
    "num.training.samples.1000g = round(percent.train * length(sample.id.1000g))\n",
    "training.samples.1000g = sample(sample.id.1000g, num.training.samples.1000g)\n",
    "print(sprintf(\"number of 1000g training samples: %d\", num.training.samples.1000g))\n",
    "\n",
    "# get list of training examples by randomly sampling \n",
    "sample.id.atlas = read.gdsn(index.gdsn(genofile.atlas, \"sample.id\"))\n",
    "num.training.samples.atlas = round(percent.train * length(sample.id.atlas))\n",
    "training.samples.atlas = sample(sample.id.atlas, num.training.samples.atlas)\n",
    "print(sprintf(\"number of atlas training samples: %d\", num.training.samples.atlas))"
   ]
  },
  {
   "cell_type": "code",
   "execution_count": 10,
   "metadata": {},
   "outputs": [
    {
     "name": "stdout",
     "output_type": "stream",
     "text": [
      "[1] \"number of 1000g testing samples: 751\"\n",
      "[1] \"number of atlas testing samples: 542\"\n"
     ]
    }
   ],
   "source": [
    "# use others for testing\n",
    "testing.samples.1000g = sample.id.1000g[!(sample.id.1000g %in% training.samples.1000g)]\n",
    "num.testing.samples.1000g = length(testing.samples.1000g)\n",
    "print(sprintf(\"number of 1000g testing samples: %d\", num.testing.samples.1000g))\n",
    "\n",
    "# use others for testing\n",
    "testing.samples.atlas = sample.id.atlas[!(sample.id.atlas %in% training.samples.atlas)]\n",
    "num.testing.samples.atlas = length(testing.samples.atlas)\n",
    "print(sprintf(\"number of atlas testing samples: %d\", num.testing.samples.atlas))"
   ]
  },
  {
   "cell_type": "markdown",
   "metadata": {},
   "source": [
    "## Run PCA\n",
    "Using the training samples, and the set of SNPs that passed the LD filtering step, we run PCA using the [SNPRelate](https://bioconductor.org/packages/release/bioc/html/SNPRelate.html) package. This function allows us to use multiple threads for faster processing."
   ]
  },
  {
   "cell_type": "code",
   "execution_count": 11,
   "metadata": {},
   "outputs": [
    {
     "name": "stdout",
     "output_type": "stream",
     "text": [
      "Principal Component Analysis (PCA) on genotypes:\n",
      "Excluding 0 SNP (non-autosomes or non-selection)\n",
      "Excluding 1 SNP (monomorphic: TRUE, MAF: NaN, missing rate: NaN)\n",
      "Working space: 1,264 samples, 2,433 SNPs\n",
      "    using 4 (CPU) cores\n",
      "PCA:    the sum of all selected genotypes (0,1,2) = 5603742\n",
      "CPU capabilities: Double-Precision SSE2\n",
      "Fri Jul 27 18:43:56 2018    (internal increment: 4636)\n",
      "\r",
      "[..................................................]  0%, ETC: ---    \r",
      "[==================================================] 100%, completed in 1s\n",
      "Fri Jul 27 18:43:57 2018    Begin (eigenvalues and eigenvectors)\n",
      "Fri Jul 27 18:43:57 2018    Done.\n"
     ]
    }
   ],
   "source": [
    "# pca = snpgdsPCA(genofile.maf, sample.id=training.samples, snp.id=snpset.id, num.thread=num.threads)\n",
    "pca = snpgdsPCA(genofile.atlas, sample.id=training.samples.atlas, snp.id=snpset.id, num.thread=num.threads)"
   ]
  },
  {
   "cell_type": "code",
   "execution_count": 12,
   "metadata": {},
   "outputs": [
    {
     "data": {
      "text/html": [
       "<ol class=list-inline>\n",
       "\t<li>2.62223</li>\n",
       "\t<li>2.46315</li>\n",
       "\t<li>1.21962</li>\n",
       "\t<li>0.91693</li>\n",
       "\t<li>0.70501</li>\n",
       "\t<li>0.4004</li>\n",
       "</ol>\n"
      ],
      "text/latex": [
       "\\begin{enumerate*}\n",
       "\\item 2.62223\n",
       "\\item 2.46315\n",
       "\\item 1.21962\n",
       "\\item 0.91693\n",
       "\\item 0.70501\n",
       "\\item 0.4004\n",
       "\\end{enumerate*}\n"
      ],
      "text/markdown": [
       "1. 2.62223\n",
       "2. 2.46315\n",
       "3. 1.21962\n",
       "4. 0.91693\n",
       "5. 0.70501\n",
       "6. 0.4004\n",
       "\n",
       "\n"
      ],
      "text/plain": [
       "[1] 2.62223 2.46315 1.21962 0.91693 0.70501 0.40040"
      ]
     },
     "metadata": {},
     "output_type": "display_data"
    }
   ],
   "source": [
    "pc.percent = pca$varprop*100 \n",
    "head(round(pc.percent, num.eigenvectors))"
   ]
  },
  {
   "cell_type": "markdown",
   "metadata": {
    "collapsed": true
   },
   "source": [
    "## Plot first eigenvector against second eigenvector"
   ]
  },
  {
   "cell_type": "code",
   "execution_count": 13,
   "metadata": {},
   "outputs": [
    {
     "data": {
      "image/png": "[encoded data removed]",
      "text/plain": [
       "plot without title"
      ]
     },
     "metadata": {},
     "output_type": "display_data"
    }
   ],
   "source": [
    "tab <- data.frame(sample.id=pca$sample.id, pop=factor(pop_code)[match(pca$sample.id, pca$sample.id)], EV1=pca$eigenvect[,1], EV2=pca$eigenvect[,2], stringsAsFactors=FALSE)\n",
    "#head(tab)\n",
    "# plot(tab$EV2, tab$EV1, col=as.integer(tab$pop), xlab=\"eigenvector 2\", ylab=\"eigenvector 1\")\n",
    "plot(tab$EV2, tab$EV1, xlab=\"eigenvector 2\", ylab=\"eigenvector 1\")\n",
    "# legend(\"bottomright\", legend=levels(tab$pop), pch=\"o\", col=1:nlevels(tab$pop))"
   ]
  },
  {
   "cell_type": "markdown",
   "metadata": {
    "collapsed": true
   },
   "source": [
    "## Plot top 5 PCs against each other "
   ]
  },
  {
   "cell_type": "code",
   "execution_count": 14,
   "metadata": {},
   "outputs": [
    {
     "data": {
      "image/png": "[encoded data removed]",
      "text/plain": [
       "plot without title"
      ]
     },
     "metadata": {},
     "output_type": "display_data"
    }
   ],
   "source": [
    "lbls <- paste(\"PC\", 1:num.eigenvectors, \"\\n\", format(pc.percent[1:num.eigenvectors], digits=2), \"%\", sep=\"\")\n",
    "pairs(pca$eigenvect[,1:num.eigenvectors], labels=lbls)"
   ]
  },
  {
   "cell_type": "markdown",
   "metadata": {
    "collapsed": true
   },
   "source": [
    "## Calculate SNP loadings "
   ]
  },
  {
   "cell_type": "code",
   "execution_count": 15,
   "metadata": {},
   "outputs": [
    {
     "name": "stdout",
     "output_type": "stream",
     "text": [
      "SNP loading:\n",
      "Working space: 1264 samples, 2433 SNPs\n",
      "    using 4 (CPU) cores\n",
      "    using the top 32 eigenvectors\n",
      "SNP Loading:    the sum of all selected genotypes (0,1,2) = 5603742\n",
      "Fri Jul 27 18:43:58 2018    (internal increment: 37096)\n",
      "\r",
      "[..................................................]  0%, ETC: ---    \r",
      "[==================================================] 100%, completed in 0s\n",
      "Fri Jul 27 18:43:58 2018    Done.\n"
     ]
    }
   ],
   "source": [
    "# get SNP loadings \n",
    "snp.loadings = snpgdsPCASNPLoading(pca, genofile.atlas, num.thread=num.threads)"
   ]
  },
  {
   "cell_type": "markdown",
   "metadata": {
    "collapsed": true
   },
   "source": [
    "## Calculate sample loadings for testing set using SNP loadings"
   ]
  },
  {
   "cell_type": "code",
   "execution_count": 16,
   "metadata": {},
   "outputs": [
    {
     "name": "stdout",
     "output_type": "stream",
     "text": [
      "Sample loading:\n",
      "Working space: 751 samples, 2433 SNPs\n",
      "    using 4 (CPU) cores\n",
      "    using the top 32 eigenvectors\n",
      "Sample Loading:    the sum of all selected genotypes (0,1,2) = 3334246\n",
      "Fri Jul 27 18:43:58 2018    (internal increment: 62436)\n",
      "[==================================================] 100%, completed in 0s\n",
      "Fri Jul 27 18:43:58 2018    Done.\n",
      "Sample loading:\n",
      "Working space: 751 samples, 2433 SNPs\n",
      "    using 4 (CPU) cores\n",
      "    using the top 32 eigenvectors\n",
      "Sample Loading:    the sum of all selected genotypes (0,1,2) = 3334246\n",
      "Fri Jul 27 18:43:58 2018    (internal increment: 62436)\n",
      "[==================================================] 100%, completed in 0s\n",
      "Fri Jul 27 18:43:58 2018    Done.\n",
      "Sample loading:\n",
      "Working space: 542 samples, 2433 SNPs\n",
      "    using 4 (CPU) cores\n",
      "    using the top 32 eigenvectors\n",
      "Sample Loading:    the sum of all selected genotypes (0,1,2) = 2405072\n",
      "Fri Jul 27 18:43:58 2018    (internal increment: 65536)\n",
      "[==================================================] 100%, completed in 0s\n",
      "Fri Jul 27 18:43:58 2018    Done.\n"
     ]
    }
   ],
   "source": [
    "# get sample loadings\n",
    "sample.loadings.1000g.train = snpgdsPCASampLoading(snp.loadings, genofile.1000g, sample.id=testing.samples.1000g, num.thread=num.threads)\n",
    "sample.loadings.1000g.test = snpgdsPCASampLoading(snp.loadings, genofile.1000g, sample.id=testing.samples.1000g, num.thread=num.threads)\n",
    "sample.loadings.atlas.test = snpgdsPCASampLoading(snp.loadings, genofile.atlas, sample.id=testing.samples.atlas, num.thread=num.threads)"
   ]
  },
  {
   "cell_type": "code",
   "execution_count": 17,
   "metadata": {},
   "outputs": [],
   "source": [
    "# extract list of SNPs used in PCA\n",
    "snp.list = snpgdsSNPList(genofile.atlas)\n",
    "snp.rs.id = snp.list$rs.id[snpset.id]\n",
    "snp.chrom = snp.list$chromosome[snpset.id]\n",
    "snp.pos = snp.list$position[snpset.id]"
   ]
  },
  {
   "cell_type": "code",
   "execution_count": 18,
   "metadata": {},
   "outputs": [],
   "source": [
    "# create dataframe with one SNP per row\n",
    "snp.df = data.frame(snp.rs.id, snp.chrom, snp.pos)\n",
    "# transpose SNP loading table\n",
    "snp.loadings.transposed = t(snp.loadings$snploading)\n",
    "# match SNPs with loading vectors\n",
    "loading.mat = data.frame(snp.df[snp.loadings$snp.id,], snp.loadings.transposed[,1:num.eigenvectors])\n",
    "# write loading data frame to file\n",
    "write.table(loading.mat, file=output.loading.file, quote=FALSE, sep=\"\\t\", row.names=FALSE)"
   ]
  },
  {
   "cell_type": "markdown",
   "metadata": {},
   "source": [
    "## Create training and testing data frames\n",
    "We pair each sample with its corresponding eigenvectors (loadings) that have been calculated above"
   ]
  },
  {
   "cell_type": "code",
   "execution_count": 19,
   "metadata": {},
   "outputs": [],
   "source": [
    "# create data frames, where sample is paired with eigenvectors\n",
    "train.eigenvects = data.frame(sample.loadings.1000g.train$sample.id, sample.loadings.1000g.train$eigenvect[,1:num.eigenvectors]) \n",
    "test.eigenvects  = data.frame(sample.loadings.1000g.test$sample.id, sample.loadings.1000g.test$eigenvect[,1:num.eigenvectors])\n",
    "atlas.test.eigenvects = data.frame(sample.loadings.atlas.test$sample.id, sample.loadings.atlas.test$eigenvect[,1:num.eigenvectors])\n",
    "# train.eigenvects = data.frame(pca$sample.id, pca$eigenvect[,1:num.eigenvectors]) \n",
    "# test.eigenvects  = data.frame(sample.loadings$sample.id, sample.loadings$eigenvect[,1:num.eigenvectors])"
   ]
  },
  {
   "cell_type": "code",
   "execution_count": 20,
   "metadata": {},
   "outputs": [],
   "source": [
    "# make sure sample.id column is same for all df\n",
    "colnames(train.eigenvects)[1] = \"sample.id\"\n",
    "colnames(test.eigenvects)[1] = \"sample.id\"\n",
    "colnames(atlas.test.eigenvects)[1] = \"sample.id\"\n",
    "colnames(sample.info)[1] = \"sample.id\""
   ]
  },
  {
   "cell_type": "code",
   "execution_count": 21,
   "metadata": {},
   "outputs": [],
   "source": [
    "# merge data frames\n",
    "train.df = merge(sample.info, train.eigenvects)\n",
    "test.df  = merge(sample.info, test.eigenvects)\n",
    "test.atlas.df  = atlas.test.eigenvects"
   ]
  },
  {
   "cell_type": "markdown",
   "metadata": {},
   "source": [
    "## Train random forest model\n",
    "Using a random forest classifier we will train a model to predict the *super*population, using the eigenvectors generated using PCA as input features. To test the model, we use the subset of samples we held out of the PCA training step."
   ]
  },
  {
   "cell_type": "code",
   "execution_count": 22,
   "metadata": {},
   "outputs": [],
   "source": [
    "# train random forest using training eigenvectors\n",
    "# output.forest = randomForest(train.df[,5:9], y=train.df$super_pop, \n",
    "#                              data=train.df, xtest=test.df[,5:9], ytest=test.df$super_pop, \n",
    "#                              ntree=500, replace=FALSE)\n",
    "output.forest = randomForest(train.df[,5:9], y=train.df$super_pop, \n",
    "                             data=train.df, \n",
    "                             ntree=500, replace=FALSE)"
   ]
  },
  {
   "cell_type": "code",
   "execution_count": 23,
   "metadata": {},
   "outputs": [
    {
     "name": "stdout",
     "output_type": "stream",
     "text": [
      "\n",
      "Call:\n",
      " randomForest(x = train.df[, 5:9], y = train.df$super_pop, ntree = 500,      replace = FALSE, data = train.df) \n",
      "               Type of random forest: classification\n",
      "                     Number of trees: 500\n",
      "No. of variables tried at each split: 2\n",
      "\n",
      "        OOB estimate of  error rate: 1.07%\n",
      "Confusion matrix:\n",
      "    AFR AMR EAS EUR SAS class.error\n",
      "AFR 211   1   0   0   0 0.004716981\n",
      "AMR   1 100   0   4   0 0.047619048\n",
      "EAS   0   0 157   0   0 0.000000000\n",
      "EUR   0   1   0 144   1 0.013698630\n",
      "SAS   0   0   0   0 131 0.000000000\n"
     ]
    }
   ],
   "source": [
    "print(output.forest)"
   ]
  },
  {
   "cell_type": "code",
   "execution_count": 24,
   "metadata": {},
   "outputs": [
    {
     "data": {
      "text/plain": [
       "Confusion Matrix and Statistics\n",
       "\n",
       "          Reference\n",
       "Prediction AFR AMR EAS EUR SAS\n",
       "       AFR 212   0   0   0   0\n",
       "       AMR   0 105   0   0   0\n",
       "       EAS   0   0 157   0   0\n",
       "       EUR   0   0   0 146   0\n",
       "       SAS   0   0   0   0 131\n",
       "\n",
       "Overall Statistics\n",
       "                                     \n",
       "               Accuracy : 1          \n",
       "                 95% CI : (0.9951, 1)\n",
       "    No Information Rate : 0.2823     \n",
       "    P-Value [Acc > NIR] : < 2.2e-16  \n",
       "                                     \n",
       "                  Kappa : 1          \n",
       " Mcnemar's Test P-Value : NA         \n",
       "\n",
       "Statistics by Class:\n",
       "\n",
       "                     Class: AFR Class: AMR Class: EAS Class: EUR Class: SAS\n",
       "Sensitivity              1.0000     1.0000     1.0000     1.0000     1.0000\n",
       "Specificity              1.0000     1.0000     1.0000     1.0000     1.0000\n",
       "Pos Pred Value           1.0000     1.0000     1.0000     1.0000     1.0000\n",
       "Neg Pred Value           1.0000     1.0000     1.0000     1.0000     1.0000\n",
       "Prevalence               0.2823     0.1398     0.2091     0.1944     0.1744\n",
       "Detection Rate           0.2823     0.1398     0.2091     0.1944     0.1744\n",
       "Detection Prevalence     0.2823     0.1398     0.2091     0.1944     0.1744\n",
       "Balanced Accuracy        1.0000     1.0000     1.0000     1.0000     1.0000"
      ]
     },
     "metadata": {},
     "output_type": "display_data"
    }
   ],
   "source": [
    "# predict(output.forest, test.df[,5:9])\n",
    "confusionMatrix(predict(output.forest, test.df[,5:9]), test.df$super_pop)"
   ]
  },
  {
   "cell_type": "code",
   "execution_count": 25,
   "metadata": {},
   "outputs": [
    {
     "data": {
      "text/html": [
       "542"
      ],
      "text/latex": [
       "542"
      ],
      "text/markdown": [
       "542"
      ],
      "text/plain": [
       "[1] 542"
      ]
     },
     "metadata": {},
     "output_type": "display_data"
    }
   ],
   "source": [
    "atlas.predictions = predict(output.forest, test.atlas.df)\n",
    "atlas.counts = count(atlas.predictions)\n",
    "length(atlas.predictions)\n",
    "atlas.counts$frac = atlas.counts$freq/length(atlas.predictions)"
   ]
  },
  {
   "cell_type": "code",
   "execution_count": 26,
   "metadata": {},
   "outputs": [
    {
     "data": {
      "text/html": [
       "<table>\n",
       "<thead><tr><th scope=col>x</th><th scope=col>freq</th><th scope=col>frac</th></tr></thead>\n",
       "<tbody>\n",
       "\t<tr><td>AFR       </td><td> 24       </td><td>0.04428044</td></tr>\n",
       "\t<tr><td>AMR       </td><td>115       </td><td>0.21217712</td></tr>\n",
       "\t<tr><td>EAS       </td><td> 61       </td><td>0.11254613</td></tr>\n",
       "\t<tr><td>EUR       </td><td>327       </td><td>0.60332103</td></tr>\n",
       "\t<tr><td>SAS       </td><td> 15       </td><td>0.02767528</td></tr>\n",
       "</tbody>\n",
       "</table>\n"
      ],
      "text/latex": [
       "\\begin{tabular}{r|lll}\n",
       " x & freq & frac\\\\\n",
       "\\hline\n",
       "\t AFR        &  24        & 0.04428044\\\\\n",
       "\t AMR        & 115        & 0.21217712\\\\\n",
       "\t EAS        &  61        & 0.11254613\\\\\n",
       "\t EUR        & 327        & 0.60332103\\\\\n",
       "\t SAS        &  15        & 0.02767528\\\\\n",
       "\\end{tabular}\n"
      ],
      "text/markdown": [
       "\n",
       "x | freq | frac | \n",
       "|---|---|---|---|---|\n",
       "| AFR        |  24        | 0.04428044 | \n",
       "| AMR        | 115        | 0.21217712 | \n",
       "| EAS        |  61        | 0.11254613 | \n",
       "| EUR        | 327        | 0.60332103 | \n",
       "| SAS        |  15        | 0.02767528 | \n",
       "\n",
       "\n"
      ],
      "text/plain": [
       "  x   freq frac      \n",
       "1 AFR  24  0.04428044\n",
       "2 AMR 115  0.21217712\n",
       "3 EAS  61  0.11254613\n",
       "4 EUR 327  0.60332103\n",
       "5 SAS  15  0.02767528"
      ]
     },
     "metadata": {},
     "output_type": "display_data"
    }
   ],
   "source": [
    "atlas.counts"
   ]
  },
  {
   "cell_type": "code",
   "execution_count": null,
   "metadata": {},
   "outputs": [],
   "source": []
  }
 ],
 "metadata": {
  "kernelspec": {
   "display_name": "R",
   "language": "R",
   "name": "ir"
  },
  "language_info": {
   "codemirror_mode": "r",
   "file_extension": ".r",
   "mimetype": "text/x-r-source",
   "name": "R",
   "pygments_lexer": "r",
   "version": "3.4.3"
  }
 },
 "nbformat": 4,
 "nbformat_minor": 2
}
